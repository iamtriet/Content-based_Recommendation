{
  "nbformat": 4,
  "nbformat_minor": 0,
  "metadata": {
    "colab": {
      "provenance": []
    },
    "kernelspec": {
      "name": "python3",
      "display_name": "Python 3"
    },
    "language_info": {
      "name": "python"
    }
  },
  "cells": [
    {
      "cell_type": "markdown",
      "source": [
        "- **u.data**: Chứa toàn bộ các đánh giá của 943 người dùng cho 1682 bộ phim. Mỗi người dùng đánh giá ít nhất 20 movie. Thông tin về thời điểm đánh giá cũng được cho nhưng chúng ta không sử dụng trong ví dụ này.\n",
        "- **a.base**, **ua.test**, **ub.base**, **ub.test**: là hai cách chia toàn bộ dữ liệu ra thành hai tập con, một cho huấn luyện, một cho kiểm thử. Chúng ta sẽ thực hành trên ua.base và ua.test.\n",
        "- **u.user**: Chứa thông tin về người dùng, bao gồm: id, tuổi, giới tính, nghề nghiệp, zipcode (vùng miền), vì những thông tin này cũng có thể ảnh hưởng tới sở thích của các người dùng. Tuy nhiên, trong ví dụ này, chúng ta sẽ không sử dụng các thông tin này, trừ thông tin về id để xác định các user khác nhau.\n",
        "-  **u.genre**: Chứa tên của 19 thể loại phim. Các thể loại bao gồm: unknown, Action, Adventure, Animation, Children‘s, Comedy, Crime, Documentary, Drama, Fantasy, Film−Noir, Horror, Musical, Mystery, Romance, Sci−Fi, Thriller, War, Western,\n",
        "- **u.item**: thông tin về mỗi bộ phim. Ví dụ:\n",
        "\n",
        "  1|Toy Story (1995)|01-Jan-1995||http://us.imdb.com/M/title-exact?Toy%20Story%20(1995)\n",
        "  |0|0|0|1|1|1|0|0|0|0|0|0|0|0|0|0|0|0|0  \n",
        "  2|GoldenEye (1995)|01-Jan-1995||http://us.imdb.com/M/title-exact?GoldenEye%20(1995)\n",
        "  |0|1|1|0|0|0|0|0|0|0|0|0|0|0|0|0|1|0|0  \n",
        "  3|Four Rooms (1995)|01-Jan-1995||http://us.imdb.com/M/title-exact?Four%20Rooms%20(1995)  \n",
        "  |0|0|0|0|0|0|0|0|0|0|0|0|0|0|0|0|1|0|0  \n",
        "  4|Get Shorty (1995)|01-Jan-1995||http://us.imdb.com/M/title-exact?Get%20Shorty%20(1995)  \n",
        "  |0|1|0|0|0|1|0|0|1|0|0|0|0|0|0|0|0|0|0\n",
        "\n",
        "- Trong mỗi dòng, chúng ta sẽ thấy id của phim, tên phim, ngày phát hành, link trên imdb, và các số nhị phân 0, 1 phía cuối để chỉ ra bộ phim thuộc các thể loại nào trong 19 thể loại đã cho trong u.genre. Một bộ phim có thể thuộc nhiều thể loại khác nhau. Thông tin về thể loại này sẽ được dùng để xây dựng item profiles."
      ],
      "metadata": {
        "id": "Uqx5QyrltDey"
      }
    },
    {
      "cell_type": "code",
      "execution_count": 2,
      "metadata": {
        "id": "qWuf7vRFsUUa"
      },
      "outputs": [],
      "source": [
        "from __future__ import print_function\n",
        "import pandas as pd\n",
        "import numpy as np\n",
        "from sklearn.metrics.pairwise import cosine_similarity\n",
        "from scipy import sparse\n",
        "\n",
        "class MF(object):\n",
        "  def __init__(self, Y, K, lam = 0.1, Xinit = None, Winit = None,\n",
        "               learning_rate = 0.5, max_iter = 1000, print_every = 100):\n",
        "    self.Y = Y # represents the utility matrix\n",
        "    self.K = K #\n",
        "    self.lam = lam # regularization parameter (lambda)\n",
        "    self.learning_rate = learning_rate # for gradient descent\n",
        "    self.max_iter = max_iter # maximum number of iterations\n",
        "    self.print_every = print_every # print loss after each a few iters\n",
        "    self.n_users = int(np.max(Y[:, 0])) + 1\n",
        "    self.n_items = int(np.max(Y[:, 1])) + 1\n",
        "    self.n_ratings = Y.shape[0] # number of known ratings\n",
        "    self.X = np.random.randn(self.n_items, K) if Xinit is None else Xinit\n",
        "    self.W = np.random.randn(K, self.n_users) if Winit is None else Winit\n",
        "    self.b = np.random.randn(self.n_items) # item biases\n",
        "    self.d = np.random.randn(self.n_users) # user biases\n",
        "  def loss(self):\n",
        "    L = 0\n",
        "    for i in range(self.n_ratings):\n",
        "      # user_id, item_id, rating\n",
        "      n, m, rating = int(self.Y[i, 0]), int(self.Y[i, 1]), self.Y[i, 2]\n",
        "      L += 0.5*(self.X[m].dot(self.W[:, n]) + self.b[m] + self.d[n] - rating)**2\n",
        "    L /= self.n_ratings\n",
        "    # regularization, don’t ever forget this\n",
        "    return L + 0.5*self.lam*(np.sum(self.X**2) + np.sum(self.W**2))\n",
        "\n",
        "  def updateXb(self):\n",
        "    for m in range(self.n_items):\n",
        "      # get all users who rated item m and get the corresponding ratings\n",
        "      ids = np.where(self.Y[:, 1] == m)[0] # row indices of items m\n",
        "      user_ids, ratings = self.Y[ids, 0].astype(np.int32), self.Y[ids, 2]\n",
        "      Wm, dm = self.W[:, user_ids], self.d[user_ids]\n",
        "      for i in range(30): # 30 iteration for each sub problem\n",
        "        xm = self.X[m]\n",
        "        error = xm.dot(Wm) + self.b[m] + dm - ratings\n",
        "        grad_xm = error.dot(Wm.T)/self.n_ratings + self.lam*xm\n",
        "        grad_bm = np.sum(error)/self.n_ratings\n",
        "        # gradient descent\n",
        "        self.X[m] -= self.learning_rate*grad_xm.reshape(-1)\n",
        "        self.b[m] -= self.learning_rate*grad_bm\n",
        "\n",
        "  def updateWd(self): # and d\n",
        "    for n in range(self.n_users):\n",
        "      # get all items rated by user n, and the corresponding ratings\n",
        "      ids = np.where(self.Y[:,0] == n)[0] # row indices of items rated by user n\n",
        "      item_ids, ratings = self.Y[ids, 1].astype(np.int32), self.Y[ids, 2]\n",
        "      Xn, bn = self.X[item_ids], self.b[item_ids]\n",
        "      for i in range(30): # 30 iteration for each sub problem\n",
        "        wn = self.W[:, n]\n",
        "        error = Xn.dot(wn) + bn + self.d[n] - ratings\n",
        "        grad_wn = Xn.T.dot(error)/self.n_ratings + self.lam*wn\n",
        "        grad_dn = np.sum(error)/self.n_ratings\n",
        "        # gradient descent\n",
        "        self.W[:, n] -= self.learning_rate*grad_wn.reshape(-1)\n",
        "        self.d[n] -= self.learning_rate*grad_dn\n",
        "\n",
        "  def fit(self):\n",
        "    for it in range(self.max_iter):\n",
        "      self.updateWd()\n",
        "      self.updateXb()\n",
        "      if (it + 1) % self.print_every == 0:\n",
        "        rmse_train = self.evaluate_RMSE(self.Y)\n",
        "        print(\"iter = %d, loss = %.4f, RMSE train = %.4f\"%(it + 1, self.loss(), rmse_train))\n",
        "  def pred(self, u, i):\n",
        "    \"\"\"\n",
        "    predict the rating of user u for item i\n",
        "    \"\"\"\n",
        "    u, i = int(u), int(i)\n",
        "    pred = self.X[i, :].dot(self.W[:, u]) + self.b[i] + self.d[u]# + bias\n",
        "    return max(0, min(5, pred)) # pred should be between 0 and 5 in MoviesLen\n",
        "\n",
        "  def evaluate_RMSE(self, rate_test):\n",
        "    n_tests = rate_test.shape[0] # number of test\n",
        "    SE = 0 # squared error\n",
        "    for n in range(n_tests):\n",
        "      pred = self.pred(rate_test[n, 0], rate_test[n, 1])\n",
        "      SE += (pred - rate_test[n, 2])**2\n",
        "\n",
        "    RMSE = np.sqrt(SE/n_tests)\n",
        "    return RMSE"
      ]
    },
    {
      "cell_type": "code",
      "source": [
        "r_cols = [\"user_id\", \"movie_id\", \"rating\", \"unix_timestamp\"]\n",
        "ratings_base = pd.read_csv(\"ml-100k/ua.base\", sep=\"\\t\", names=r_cols)\n",
        "ratings_test = pd.read_csv(\"ml-100k/ua.test\", sep=\"\\t\", names=r_cols)\n",
        "\n",
        "rate_train = ratings_base.values\n",
        "rate_test = ratings_test.values\n",
        "\n",
        "# indices start from 0\n",
        "rate_train[:, :2] -= 1\n",
        "rate_test[:, :2] -= 1\n",
        "\n",
        "rs = MF(rate_train, K = 50, lam = .01, print_every = 5, learning_rate = 50, max_iter = 30)\n",
        "rs.fit()\n",
        "\n",
        "# evaluate on test data\n",
        "RMSE = rs.evaluate_RMSE(rate_test)\n",
        "print(\"\\nMatrix Factorization CF, RMSE = %.4f\" %RMSE)"
      ],
      "metadata": {
        "colab": {
          "base_uri": "https://localhost:8080/"
        },
        "id": "qVxRobR8vw3r",
        "outputId": "a48144cc-c54f-4774-93e9-9b890661e785"
      },
      "execution_count": 4,
      "outputs": [
        {
          "output_type": "stream",
          "name": "stdout",
          "text": [
            "iter = 5, loss = 0.4441, RMSE train = 0.9422\n",
            "iter = 10, loss = 0.4215, RMSE train = 0.9179\n",
            "iter = 15, loss = 0.4174, RMSE train = 0.9135\n",
            "iter = 20, loss = 0.4162, RMSE train = 0.9121\n",
            "iter = 25, loss = 0.4156, RMSE train = 0.9114\n",
            "iter = 30, loss = 0.4152, RMSE train = 0.9111\n",
            "\n",
            "Matrix Factorization CF, RMSE = 0.9612\n"
          ]
        }
      ]
    },
    {
      "cell_type": "code",
      "source": [],
      "metadata": {
        "id": "LWjsAkrOxTRL"
      },
      "execution_count": null,
      "outputs": []
    }
  ]
}