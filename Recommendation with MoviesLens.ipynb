{
  "nbformat": 4,
  "nbformat_minor": 0,
  "metadata": {
    "colab": {
      "provenance": []
    },
    "kernelspec": {
      "name": "python3",
      "display_name": "Python 3"
    },
    "language_info": {
      "name": "python"
    }
  },
  "cells": [
    {
      "cell_type": "markdown",
      "source": [
        "- **u.data**: Chứa toàn bộ các đánh giá của 943 người dùng cho 1682 bộ phim. Mỗi người dùng đánh giá ít nhất 20 movie. Thông tin về thời điểm đánh giá cũng được cho nhưng chúng ta không sử dụng trong ví dụ này.\n",
        "- **a.base**, **ua.test**, **ub.base**, **ub.test**: là hai cách chia toàn bộ dữ liệu ra thành hai tập con, một cho huấn luyện, một cho kiểm thử. Chúng ta sẽ thực hành trên ua.base và ua.test.\n",
        "- **u.user**: Chứa thông tin về người dùng, bao gồm: id, tuổi, giới tính, nghề nghiệp, zipcode (vùng miền), vì những thông tin này cũng có thể ảnh hưởng tới sở thích của các người dùng. Tuy nhiên, trong ví dụ này, chúng ta sẽ không sử dụng các thông tin này, trừ thông tin về id để xác định các user khác nhau.\n",
        "-  **u.genre**: Chứa tên của 19 thể loại phim. Các thể loại bao gồm: unknown, Action, Adventure, Animation, Children‘s, Comedy, Crime, Documentary, Drama, Fantasy, Film−Noir, Horror, Musical, Mystery, Romance, Sci−Fi, Thriller, War, Western,\n",
        "- **u.item**: thông tin về mỗi bộ phim. Ví dụ:\n",
        "\n",
        "  1|Toy Story (1995)|01-Jan-1995||http://us.imdb.com/M/title-exact?Toy%20Story%20(1995)\n",
        "  |0|0|0|1|1|1|0|0|0|0|0|0|0|0|0|0|0|0|0  \n",
        "  2|GoldenEye (1995)|01-Jan-1995||http://us.imdb.com/M/title-exact?GoldenEye%20(1995)\n",
        "  |0|1|1|0|0|0|0|0|0|0|0|0|0|0|0|0|1|0|0  \n",
        "  3|Four Rooms (1995)|01-Jan-1995||http://us.imdb.com/M/title-exact?Four%20Rooms%20(1995)  \n",
        "  |0|0|0|0|0|0|0|0|0|0|0|0|0|0|0|0|1|0|0  \n",
        "  4|Get Shorty (1995)|01-Jan-1995||http://us.imdb.com/M/title-exact?Get%20Shorty%20(1995)  \n",
        "  |0|1|0|0|0|1|0|0|1|0|0|0|0|0|0|0|0|0|0\n",
        "\n",
        "- Trong mỗi dòng, chúng ta sẽ thấy id của phim, tên phim, ngày phát hành, link trên imdb, và các số nhị phân 0, 1 phía cuối để chỉ ra bộ phim thuộc các thể loại nào trong 19 thể loại đã cho trong u.genre. Một bộ phim có thể thuộc nhiều thể loại khác nhau. Thông tin về thể loại này sẽ được dùng để xây dựng item profiles."
      ],
      "metadata": {
        "id": "Uqx5QyrltDey"
      }
    },
    {
      "cell_type": "code",
      "execution_count": 26,
      "metadata": {
        "colab": {
          "base_uri": "https://localhost:8080/"
        },
        "id": "qWuf7vRFsUUa",
        "outputId": "cfd5ac95-0f22-4c14-fe9a-f7928c3dc4cb"
      },
      "outputs": [
        {
          "output_type": "stream",
          "name": "stdout",
          "text": [
            "Number of users: 943\n",
            "Number of traing rates: 90570\n",
            "Number of test rates: 9430\n",
            "---------------------\n",
            "   user_id  age sex  occupation zip_code\n",
            "0        1   24   M  technician    85711\n",
            "1        2   53   F       other    94043\n",
            "2        3   23   M      writer    32067\n",
            "3        4   24   M  technician    43537\n",
            "4        5   33   F       other    15213\n",
            "---------------------\n",
            "   user_id  movie_id  rating  unix_timestamp\n",
            "0        1         1       5       874965758\n",
            "1        1         2       3       876893171\n",
            "2        1         3       4       878542960\n",
            "3        1         4       3       876893119\n",
            "4        1         5       3       889751712\n",
            "---------------------\n",
            "[[        1         1         5 874965758]\n",
            " [        1         2         3 876893171]\n",
            " [        1         3         4 878542960]\n",
            " ...\n",
            " [      943      1188         3 888640250]\n",
            " [      943      1228         3 888640275]\n",
            " [      943      1330         3 888692465]]\n"
          ]
        }
      ],
      "source": [
        "from __future__ import print_function\n",
        "import numpy as np\n",
        "import pandas as pd\n",
        "\n",
        "# Reading user file:\n",
        "u_cols = [\"user_id\", \"age\", \"sex\", \"occupation\", \"zip_code\"]\n",
        "users = pd.read_csv(\"ml-100k/u.user\", sep=\"|\", names=u_cols)\n",
        "n_users = users.shape[0] # (axis 0): Trả về kích thước của mảng trong chiều đầu tiên (row) -> số hàng\n",
        "print(\"Number of users:\", n_users)\n",
        "\n",
        "#Reading ratings file:\n",
        "r_cols = [\"user_id\", \"movie_id\", \"rating\", \"unix_timestamp\"]\n",
        "ratings_base = pd.read_csv(\"ml-100k/ua.base\", sep=\"\\t\", names=r_cols)\n",
        "ratings_test = pd.read_csv(\"ml-100k/ua.test\", sep=\"\\t\", names=r_cols)\n",
        "\n",
        "rate_train = ratings_base.values\n",
        "rate_test = ratings_test.values\n",
        "\n",
        "print(\"Number of traing rates:\", rate_train.shape[0])\n",
        "print(\"Number of test rates:\", rate_test.shape[0])\n",
        "print(\"---------------------\")\n",
        "print(users.head());\n",
        "print(\"---------------------\")\n",
        "print(ratings_base.head());\n",
        "print(\"---------------------\")\n",
        "print(rate_train)"
      ]
    },
    {
      "cell_type": "code",
      "source": [
        "#Reading items file:\n",
        "i_cols = [\"movie id\", \"movie title\" ,\"release date\",\"video release date\", \"IMDb URL\",\n",
        "          \"unknown\", \"Action\", \"Adventure\", \"Animation\", \"Children\\\"s\", \"Comedy\", \"Crime\",\n",
        "          \"Documentary\", \"Drama\", \"Fantasy\", \"Film-Noir\", \"Horror\", \"Musical\", \"Mystery\", \"Romance\", \"Sci-Fi\", \"Thriller\", \"War\", \"Western\"]\n",
        "\n",
        "items = pd.read_csv(\"ml-100k/u.item\", sep=\"|\", names=i_cols, encoding='latin-1')\n",
        "n_items = items.shape[0]\n",
        "print(\"Number of items:\", n_items)\n",
        "print(\"---------------------\")\n",
        "print(items.head());"
      ],
      "metadata": {
        "colab": {
          "base_uri": "https://localhost:8080/"
        },
        "id": "qVxRobR8vw3r",
        "outputId": "0d53ccc0-e6fd-4297-dc66-2ff6473b4624"
      },
      "execution_count": 30,
      "outputs": [
        {
          "output_type": "stream",
          "name": "stdout",
          "text": [
            "Number of items: 1682\n",
            "---------------------\n",
            "   movie id        movie title release date  video release date  \\\n",
            "0         1   Toy Story (1995)  01-Jan-1995                 NaN   \n",
            "1         2   GoldenEye (1995)  01-Jan-1995                 NaN   \n",
            "2         3  Four Rooms (1995)  01-Jan-1995                 NaN   \n",
            "3         4  Get Shorty (1995)  01-Jan-1995                 NaN   \n",
            "4         5     Copycat (1995)  01-Jan-1995                 NaN   \n",
            "\n",
            "                                            IMDb URL  unknown  Action  \\\n",
            "0  http://us.imdb.com/M/title-exact?Toy%20Story%2...        0       0   \n",
            "1  http://us.imdb.com/M/title-exact?GoldenEye%20(...        0       1   \n",
            "2  http://us.imdb.com/M/title-exact?Four%20Rooms%...        0       0   \n",
            "3  http://us.imdb.com/M/title-exact?Get%20Shorty%...        0       1   \n",
            "4  http://us.imdb.com/M/title-exact?Copycat%20(1995)        0       0   \n",
            "\n",
            "   Adventure  Animation  Children\"s  ...  Fantasy  Film-Noir  Horror  Musical  \\\n",
            "0          0          1           1  ...        0          0       0        0   \n",
            "1          1          0           0  ...        0          0       0        0   \n",
            "2          0          0           0  ...        0          0       0        0   \n",
            "3          0          0           0  ...        0          0       0        0   \n",
            "4          0          0           0  ...        0          0       0        0   \n",
            "\n",
            "   Mystery  Romance  Sci-Fi  Thriller  War  Western  \n",
            "0        0        0       0         0    0        0  \n",
            "1        0        0       0         1    0        0  \n",
            "2        0        0       0         1    0        0  \n",
            "3        0        0       0         0    0        0  \n",
            "4        0        0       0         1    0        0  \n",
            "\n",
            "[5 rows x 24 columns]\n"
          ]
        }
      ]
    },
    {
      "cell_type": "code",
      "source": [
        "# Vì ta đang dựa trên thể loại của phim để xây dựng profile, ta sẽ chỉ quan tâm tới 19 giá trị nhị phân ở cuối mỗi hàng.\n",
        "X0 = items.values\n",
        "X_train_counts = X0[:, -19:]\n"
      ],
      "metadata": {
        "id": "NSE1Xp68ussQ"
      },
      "execution_count": 8,
      "outputs": []
    },
    {
      "cell_type": "code",
      "source": [
        "# Tiếp theo, chúng ta hiển thị một số hàng đầu tiên của ma trận rate_train\n",
        "print(rate_train[:4, :])\n",
        "# Hàng thứ nhất được hiểu là user thứ nhất đánh giá movie thứ nhất 5 sao. Cột cuối cùng là một số chỉ thời điểm đánh giá, chúng ta sẽ bỏ qua thông số này."
      ],
      "metadata": {
        "colab": {
          "base_uri": "https://localhost:8080/"
        },
        "id": "niwPIVbWvK0-",
        "outputId": "696d1ffb-45e7-4bb7-dfe6-6971016ff2c3"
      },
      "execution_count": 10,
      "outputs": [
        {
          "output_type": "stream",
          "name": "stdout",
          "text": [
            "[[        1         1         5 874965758]\n",
            " [        1         2         3 876893171]\n",
            " [        1         3         4 878542960]\n",
            " [        1         4         3 876893119]]\n"
          ]
        }
      ]
    },
    {
      "cell_type": "code",
      "source": [
        "# Tiếp theo, chúng ta sẽ xây dựng feature vector cho mỗi item dựa trên ma trận thể loại phim và feature TF-IDF\n",
        "\n",
        "#tfidf\n",
        "from sklearn.feature_extraction.text import TfidfTransformer\n",
        "transformer = TfidfTransformer(smooth_idf=True, norm =\"l2\")\n",
        "X = transformer.fit_transform(X_train_counts.tolist()).toarray()\n",
        "\n",
        "print(X)\n",
        "# Sau bước này, mỗi hàng của X tương ứng với vector đặc trưng của một bộ phim."
      ],
      "metadata": {
        "colab": {
          "base_uri": "https://localhost:8080/"
        },
        "id": "0ni5YrNGwPTA",
        "outputId": "ed1bb3a4-285c-424b-e95b-9bc7ac80b5ed"
      },
      "execution_count": 31,
      "outputs": [
        {
          "output_type": "stream",
          "name": "stdout",
          "text": [
            "[[0.   0.   0.   ... 0.   0.   0.  ]\n",
            " [0.   0.54 0.65 ... 0.54 0.   0.  ]\n",
            " [0.   0.   0.   ... 1.   0.   0.  ]\n",
            " ...\n",
            " [0.   0.   0.   ... 0.   0.   0.  ]\n",
            " [0.   0.   0.   ... 0.   0.   0.  ]\n",
            " [0.   0.   0.   ... 0.   0.   0.  ]]\n"
          ]
        }
      ]
    },
    {
      "cell_type": "code",
      "source": [
        "# Với mỗi người dùng, chúng ta cần đi tìm những bộ phim nào mà người dùng đó đã đánh giá, và giá trị của các rating đó.\n",
        "def get_items_rated_by_user(rate_matrix, user_id):\n",
        "  \"\"\"\n",
        "  return (item_ids, scores)\n",
        "  \"\"\"\n",
        "  y = rate_matrix[:,0] # all users\n",
        "  # item indices rated by user_id\n",
        "  # we need to +1 to user_id since in the rate_matrix, id starts from 1\n",
        "  # but id in python starts from 0\n",
        "  ids = np.where(y == user_id +1)[0] # `ids` sẽ là một mảng chứa các chỉ mục của các phần tử trong mảng `y` có giá trị bằng `user_id + 1`\n",
        "  item_ids = rate_matrix[ids, 1] - 1 # index starts from 0\n",
        "  scores = rate_matrix[ids, 2]\n",
        "  # Trong rate matrix, cột đầu tiên là user, cột thứ 2 là movie, cột thứ 3 là rating\n",
        "\n",
        "  return (item_ids, scores)\n"
      ],
      "metadata": {
        "id": "0w875XH9wguk"
      },
      "execution_count": 12,
      "outputs": []
    },
    {
      "cell_type": "code",
      "source": [
        "# Bây giờ, ta có thể đi tìm các hệ số của Ridge Regression (W, b) cho mỗi người dùng\n",
        "from sklearn.linear_model import Ridge\n",
        "from sklearn import linear_model\n",
        "d = X.shape[1] # data dimension (columns) -> số cột\n",
        "W = np.zeros((d, n_users))\n",
        "b = np.zeros(n_users)\n",
        "for n in range(n_users):\n",
        "  ids, scores = get_items_rated_by_user(rate_train, n)\n",
        "  model = Ridge(alpha=0.01, fit_intercept = True)\n",
        "  Xhat = X[ids, :]\n",
        "  model.fit(Xhat, scores)\n",
        "  W[:, n] = model.coef_ # weights\n",
        "  b[n] = model.intercept_ # biases"
      ],
      "metadata": {
        "id": "AiIFzfAiwyge"
      },
      "execution_count": 13,
      "outputs": []
    },
    {
      "cell_type": "code",
      "source": [
        "# Sau khi tính được các hệ số W và b, rating mà mỗi người dùng đánh giá mỗi bộ phim được dự đoán bằng cách:\n",
        "\n",
        "# predicted scores\n",
        "Yhat = X.dot(W) + b\n",
        "print(Yhat)"
      ],
      "metadata": {
        "colab": {
          "base_uri": "https://localhost:8080/"
        },
        "id": "Qbh_BDaNw4_o",
        "outputId": "a4742414-0c97-4369-dc19-788388a4886d"
      },
      "execution_count": 32,
      "outputs": [
        {
          "output_type": "stream",
          "name": "stdout",
          "text": [
            "[[2.92 4.   1.9  ... 5.04 4.78 3.17]\n",
            " [2.8  3.44 3.3  ... 1.1  4.76 3.7 ]\n",
            " [3.48 1.56 1.27 ... 7.36 4.19 3.81]\n",
            " ...\n",
            " [4.13 4.1  3.02 ... 9.54 4.64 3.27]\n",
            " [3.57 3.45 2.93 ... 3.68 3.66 2.76]\n",
            " [4.13 3.8  3.1  ... 9.54 4.42 3.93]]\n"
          ]
        }
      ]
    },
    {
      "cell_type": "code",
      "source": [
        "# Dưới đây là một ví dụ với người dùng có id là 10.\n",
        "n = 10\n",
        "np.set_printoptions(precision=2) # 2 digits after .\n",
        "ids, scores = get_items_rated_by_user(rate_test, n)\n",
        "print(\"Rated movies ids :\", ids )\n",
        "print(\"True ratings :\", scores)\n",
        "print(\"Predicted ratings:\", Yhat[ids, n])\n"
      ],
      "metadata": {
        "colab": {
          "base_uri": "https://localhost:8080/"
        },
        "id": "WnyMPOxbxCaP",
        "outputId": "198a8a2f-5bcc-492b-8280-816b50cd216d"
      },
      "execution_count": 15,
      "outputs": [
        {
          "output_type": "stream",
          "name": "stdout",
          "text": [
            "Rated movies ids : [ 37 109 110 226 424 557 722 724 731 739]\n",
            "True ratings : [3 3 4 3 4 3 5 3 3 4]\n",
            "Predicted ratings: [3.18 3.13 3.42 3.09 3.35 5.2  4.01 3.35 3.42 3.72]\n"
          ]
        }
      ]
    },
    {
      "cell_type": "code",
      "source": [
        "# Để đánh giá mô hình tìm được, chúng ta sẽ sử dụng Root Mean Squared Error (RMSE), tức căn bậc hai của trung bình cộng bình phương của lỗi\n",
        "def evaluate(Yhat, rates, W, b):\n",
        "  se = cnt = 0\n",
        "  for n in range(n_users):\n",
        "    ids, scores_truth = get_items_rated_by_user(rates, n)\n",
        "    scores_pred = Yhat[ids, n]\n",
        "    e = scores_truth - scores_pred\n",
        "    se += (e*e).sum(axis = 0)\n",
        "    cnt += e.size\n",
        "  return np.sqrt(se/cnt)\n",
        "print(\"RMSE for training: %.2f\" %evaluate(Yhat, rate_train, W, b))\n",
        "print(\"RMSE for test : %.2f\" %evaluate(Yhat, rate_test, W, b))\n"
      ],
      "metadata": {
        "colab": {
          "base_uri": "https://localhost:8080/"
        },
        "id": "lDPU0FCvxIGF",
        "outputId": "6043437c-5907-444a-ea95-55cea06c4080"
      },
      "execution_count": 17,
      "outputs": [
        {
          "output_type": "stream",
          "name": "stdout",
          "text": [
            "RMSE for training: 0.91\n",
            "RMSE for test : 1.27\n"
          ]
        }
      ]
    },
    {
      "cell_type": "markdown",
      "source": [
        "Như vậy, với training set, sai số vào khoảng 0.91 (sao); với test set, sai số lớn hơn một chút, khoảng 1.27. Các kết quả này chưa thực sự tốt vì mô hình đã được đơn giản hoá quá nhiều. Kết quả tốt hơn có thể được thấy trong các chương tiếp theo về collaborative filtering.\n"
      ],
      "metadata": {
        "id": "XpWGLQfTxeFr"
      }
    },
    {
      "cell_type": "code",
      "source": [],
      "metadata": {
        "id": "LWjsAkrOxTRL"
      },
      "execution_count": null,
      "outputs": []
    }
  ]
}