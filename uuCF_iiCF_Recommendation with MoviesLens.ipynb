{
  "nbformat": 4,
  "nbformat_minor": 0,
  "metadata": {
    "colab": {
      "provenance": []
    },
    "kernelspec": {
      "name": "python3",
      "display_name": "Python 3"
    },
    "language_info": {
      "name": "python"
    }
  },
  "cells": [
    {
      "cell_type": "markdown",
      "source": [
        "- **u.data**: Chứa toàn bộ các đánh giá của 943 người dùng cho 1682 bộ phim. Mỗi người dùng đánh giá ít nhất 20 movie. Thông tin về thời điểm đánh giá cũng được cho nhưng chúng ta không sử dụng trong ví dụ này.\n",
        "- **a.base**, **ua.test**, **ub.base**, **ub.test**: là hai cách chia toàn bộ dữ liệu ra thành hai tập con, một cho huấn luyện, một cho kiểm thử. Chúng ta sẽ thực hành trên ua.base và ua.test.\n",
        "- **u.user**: Chứa thông tin về người dùng, bao gồm: id, tuổi, giới tính, nghề nghiệp, zipcode (vùng miền), vì những thông tin này cũng có thể ảnh hưởng tới sở thích của các người dùng. Tuy nhiên, trong ví dụ này, chúng ta sẽ không sử dụng các thông tin này, trừ thông tin về id để xác định các user khác nhau.\n",
        "-  **u.genre**: Chứa tên của 19 thể loại phim. Các thể loại bao gồm: unknown, Action, Adventure, Animation, Children‘s, Comedy, Crime, Documentary, Drama, Fantasy, Film−Noir, Horror, Musical, Mystery, Romance, Sci−Fi, Thriller, War, Western,\n",
        "- **u.item**: thông tin về mỗi bộ phim. Ví dụ:\n",
        "\n",
        "  1|Toy Story (1995)|01-Jan-1995||http://us.imdb.com/M/title-exact?Toy%20Story%20(1995)\n",
        "  |0|0|0|1|1|1|0|0|0|0|0|0|0|0|0|0|0|0|0  \n",
        "  2|GoldenEye (1995)|01-Jan-1995||http://us.imdb.com/M/title-exact?GoldenEye%20(1995)\n",
        "  |0|1|1|0|0|0|0|0|0|0|0|0|0|0|0|0|1|0|0  \n",
        "  3|Four Rooms (1995)|01-Jan-1995||http://us.imdb.com/M/title-exact?Four%20Rooms%20(1995)  \n",
        "  |0|0|0|0|0|0|0|0|0|0|0|0|0|0|0|0|1|0|0  \n",
        "  4|Get Shorty (1995)|01-Jan-1995||http://us.imdb.com/M/title-exact?Get%20Shorty%20(1995)  \n",
        "  |0|1|0|0|0|1|0|0|1|0|0|0|0|0|0|0|0|0|0\n",
        "\n",
        "- Trong mỗi dòng, chúng ta sẽ thấy id của phim, tên phim, ngày phát hành, link trên imdb, và các số nhị phân 0, 1 phía cuối để chỉ ra bộ phim thuộc các thể loại nào trong 19 thể loại đã cho trong u.genre. Một bộ phim có thể thuộc nhiều thể loại khác nhau. Thông tin về thể loại này sẽ được dùng để xây dựng item profiles."
      ],
      "metadata": {
        "id": "Uqx5QyrltDey"
      }
    },
    {
      "cell_type": "code",
      "execution_count": 34,
      "metadata": {
        "id": "qWuf7vRFsUUa"
      },
      "outputs": [],
      "source": [
        "from __future__ import print_function\n",
        "import pandas as pd\n",
        "import numpy as np\n",
        "from sklearn.metrics.pairwise import cosine_similarity\n",
        "from scipy import sparse\n",
        "\n",
        "# Hai phương thức chính của class này là fit–tính ma trận similarity, và predict–dự đoán số\n",
        "# sao mà một user sẽ đánh giá một item.\n",
        "class uuCF(object):\n",
        "  def __init__(self, Y_data, k, sim_func = cosine_similarity):\n",
        "    self.Y_data = Y_data # a 2d array of shape (n_users, 3)\n",
        "                         # each row of Y_data has form [user_id, item_id, rating]\n",
        "    self.k = k # number of neighborhood\n",
        "    self.sim_func = sim_func # similarity function, default: cosine_similarity\n",
        "    self.Ybar = None # normalize data\n",
        "    self.n_users = int(np.max(self.Y_data[:, 0])) + 1 # number of users\n",
        "    self.n_items = int(np.max(self.Y_data[:, 1])) + 1 # number of items\n",
        "\n",
        "  def fit(self):\n",
        "    # normalized Y_data -> Ybar\n",
        "    users = self.Y_data[:, 0] # all users - first column of Y_data\n",
        "    self.Ybar = self.Y_data.copy()\n",
        "    self.mu = np.zeros((self.n_users,)) # mảng 1 chiều với n_users số 0\n",
        "\n",
        "    for n in range(self.n_users):\n",
        "      # row indices of ratings made by user n\n",
        "      ids = np.where(users == n)[0].astype(np.int32) # mảng\n",
        "\n",
        "      # indices of all items rated by user n\n",
        "      item_ids = self.Y_data[ids, 1]\n",
        "\n",
        "      # ratings made by user n\n",
        "      ratings = self.Y_data[ids, 2]\n",
        "\n",
        "      # avoid zero division\n",
        "      self.mu[n] = np.mean(ratings) if ids.size > 0 else 0\n",
        "      self.Ybar[ids, 2] = ratings - self.mu[n] # normalized Y\n",
        "\n",
        "    ## form the rating matrix as a sparse matrix.\n",
        "    # see more: https://goo.gl/i2mmT2\n",
        "    self.Ybar = sparse.coo_matrix((self.Ybar[:, 2],\n",
        "                                  (self.Ybar[:, 1], self.Ybar[:, 0])),\n",
        "                                  (self.n_items, self.n_users)).tocsr()\n",
        "    self.S = self.sim_func(self.Ybar.T, self.Ybar.T)\n",
        "\n",
        "  def pred(self, u, i):\n",
        "    \"\"\"predict the rating of user u for item i use RMSE - root mean square error\"\"\"\n",
        "    # find item i\n",
        "    ids = np.where(self.Y_data[:, 1] == i)[0].astype(np.int32)\n",
        "\n",
        "    # all users who rated i\n",
        "    users_rated_i = (self.Y_data[ids, 0]).astype(np.int32)\n",
        "\n",
        "    # similarity of u and users who rated i\n",
        "    sim = self.S[u, users_rated_i]\n",
        "\n",
        "    # most k similar users\n",
        "    nns = np.argsort(sim)[-self.k:] # returns: k sorted index_array -> output: trả về k phần tử cuối cùng ( vì sort theo thứ tự tăng dần )\n",
        "    nearest_s = sim[nns] # and the corresponding similarities\n",
        "\n",
        "    # the corresponding ratings\n",
        "    r = self.Ybar[i, users_rated_i[nns]]\n",
        "    eps = 1e-8 # a small number to avoid zero division\n",
        "\n",
        "    return (r*nearest_s).sum()/(np.abs(nearest_s).sum() + eps) + self.mu[u]\n"
      ]
    },
    {
      "cell_type": "code",
      "source": [
        "r_cols = [\"user_id\", \"movie_id\", \"rating\", \"unix_timestamp\"]\n",
        "ratings_base = pd.read_csv(\"ml-100k/ua.base\", sep=\"\\t\", names=r_cols)\n",
        "ratings_test = pd.read_csv(\"ml-100k/ua.test\", sep=\"\\t\", names=r_cols)\n",
        "\n",
        "rate_train = ratings_base.values\n",
        "rate_test = ratings_test.values\n",
        "\n",
        "# indices start from 0\n",
        "rate_train[:, :2] -= 1\n",
        "rate_test[:, :2] -= 1\n",
        "\n",
        "rs = uuCF(rate_train, k = 40)\n",
        "rs.fit()\n",
        "\n",
        "n_tests = rate_test.shape[0]\n",
        "SE = 0 # squared error\n",
        "for n in range(n_tests):\n",
        "  pred = rs.pred(rate_test[n, 0], rate_test[n, 1])\n",
        "  SE += (pred - rate_test[n, 2])**2\n",
        "\n",
        "RMSE = np.sqrt(SE/n_tests)\n",
        "print(\"User-user CF, RMSE =\", RMSE)"
      ],
      "metadata": {
        "colab": {
          "base_uri": "https://localhost:8080/"
        },
        "id": "qVxRobR8vw3r",
        "outputId": "3eb4b40d-9764-4af2-9c4d-8977bb174fc0"
      },
      "execution_count": 39,
      "outputs": [
        {
          "output_type": "stream",
          "name": "stdout",
          "text": [
            "User-user CF, RMSE = 0.9766140289287265\n"
          ]
        }
      ]
    },
    {
      "cell_type": "code",
      "source": [
        "# Tiếp theo, chúng ta áp dụng item-item CF vào tập cơ sở dữ liệu này. Để áp dụng item-item CF, chúng ta chỉ cần chuyển vị ma trận utility.\n",
        "# Trong trường hợp này, vì ma trận utility được lưu dưới dạng [user_id, item_id, rating] nên ta chỉ cần đổi chỗ cột thứ nhất cho cột thứ hai của Y_data:\n",
        "rate_train = rate_train[:, [1, 0, 2]]\n",
        "rate_test = rate_test[:, [1, 0, 2]]\n",
        "\n",
        "rs = uuCF(rate_train, k = 40)\n",
        "rs.fit()\n",
        "\n",
        "n_tests = rate_test.shape[0]\n",
        "SE = 0 # squared error\n",
        "for n in range(n_tests):\n",
        "  pred = rs.pred(rate_test[n, 0], rate_test[n, 1])\n",
        "  SE += (pred - rate_test[n, 2])**2\n",
        "\n",
        "RMSE = np.sqrt(SE/n_tests)\n",
        "print(\"Item-item CF, RMSE =\", RMSE)\n"
      ],
      "metadata": {
        "colab": {
          "base_uri": "https://localhost:8080/"
        },
        "id": "NSE1Xp68ussQ",
        "outputId": "ee60e5e3-c378-4212-84b6-e2a23694c96a"
      },
      "execution_count": 42,
      "outputs": [
        {
          "output_type": "stream",
          "name": "stdout",
          "text": [
            "Item-item CF, RMSE = 0.9688460838682366\n"
          ]
        }
      ]
    },
    {
      "cell_type": "code",
      "source": [],
      "metadata": {
        "id": "LWjsAkrOxTRL"
      },
      "execution_count": null,
      "outputs": []
    }
  ]
}